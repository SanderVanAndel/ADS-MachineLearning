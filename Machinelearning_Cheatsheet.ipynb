{
 "cells": [
  {
   "cell_type": "markdown",
   "metadata": {},
   "source": [
    "# Machinelearning Cheatsheet Fontys minor applied data science"
   ]
  },
  {
   "cell_type": "markdown",
   "metadata": {},
   "source": [
    "Author: Sander van Andel<br>\n",
    "Sources: Minor presentations, Udacity machine learning course, the internet"
   ]
  },
  {
   "cell_type": "markdown",
   "metadata": {},
   "source": [
    "### Stylo"
   ]
  },
  {
   "cell_type": "code",
   "execution_count": 2,
   "metadata": {},
   "outputs": [
    {
     "data": {
      "text/html": [
       "<style>\n",
       "table {float:left}\n",
       "</style>"
      ],
      "text/plain": [
       "<IPython.core.display.HTML object>"
      ]
     },
     "metadata": {},
     "output_type": "display_data"
    }
   ],
   "source": [
    "%%html\n",
    "<style>\n",
    "table {float:left}\n",
    "</style>"
   ]
  },
  {
   "cell_type": "markdown",
   "metadata": {},
   "source": [
    "# Algorithms"
   ]
  },
  {
   "cell_type": "markdown",
   "metadata": {},
   "source": [
    "## KN-neighbors"
   ]
  },
  {
   "cell_type": "markdown",
   "metadata": {},
   "source": [
    "# Metrics"
   ]
  },
  {
   "cell_type": "markdown",
   "metadata": {},
   "source": [
    "How well is my model doing?<br>\n",
    "Can we make the quality of our model/classification measurable?<br>\n",
    "   \n"
   ]
  },
  {
   "cell_type": "markdown",
   "metadata": {},
   "source": [
    "### Confusion matrix"
   ]
  },
  {
   "cell_type": "markdown",
   "metadata": {},
   "source": [
    "|               | Diagnosed sick | Diagnosed Healthy|\n",
    "| ------------- |:-------------: |                  |\n",
    "| Sick          |              (TP)  |               (FN)   |\n",
    "| Healthy       |                (FP)|                  (TN)|"
   ]
  },
  {
   "cell_type": "markdown",
   "metadata": {},
   "source": [
    "|               | Predicted: NO  | Predicted: YES|\n",
    "| ------------- |:-------------: |                  |\n",
    "| Actual: NO          |              (TN)  |               (FP)   |\n",
    "| Actual: YES       |                (FN)|                  (TP)|"
   ]
  },
  {
   "cell_type": "markdown",
   "metadata": {},
   "source": [
    "### Accuracy"
   ]
  },
  {
   "cell_type": "markdown",
   "metadata": {},
   "source": [
    "What ratio (or %) did we classify correctly? || Most common metric<br>\n",
    "\n",
    "|               | Diagnosed sick | Diagnosed Healthy|\n",
    "| ------------- |:-------------: |                  |\n",
    "| Sick          |      1000(TP)  |       200(FN)    |\n",
    "| Healthy       |         800(FP)|          8000(TN)|\n",
    "<br><br><br><br><br>\n",
    "Accuracy = (Correct classification situations / total situations)<br>\n",
    "Accuracy = (TP + TN) / (TP + TN + FP + FN)<br>\n",
    "Accuracy = (1000 + 8000) / 10.000 = 0.9 90%<br>\n",
    "<br>\n",
    "Accuracy may not be enough if the data is skewed, for example 99 records of one class, and only one of another class.<br>\n",
    "The accuracy score will be 99%, altough the model won't be able to predict any of the class with only one record<br><br>\n",
    "\n",
    "Other accuracy shortcomings:<br>\n",
    "may want to err on side of guessing innocent<br>\n",
    "may want to err on the side of guessing guilty<br>\n"
   ]
  },
  {
   "cell_type": "markdown",
   "metadata": {},
   "source": [
    "### Recall"
   ]
  },
  {
   "cell_type": "markdown",
   "metadata": {},
   "source": [
    "Avoiding False Negatives"
   ]
  },
  {
   "cell_type": "markdown",
   "metadata": {},
   "source": [
    "### Precision"
   ]
  },
  {
   "cell_type": "markdown",
   "metadata": {},
   "source": [
    "Avoiding False Positives\n"
   ]
  },
  {
   "cell_type": "markdown",
   "metadata": {},
   "source": [
    "### F1"
   ]
  },
  {
   "cell_type": "code",
   "execution_count": null,
   "metadata": {},
   "outputs": [],
   "source": []
  }
 ],
 "metadata": {
  "kernelspec": {
   "display_name": "Python 3",
   "language": "python",
   "name": "python3"
  },
  "language_info": {
   "codemirror_mode": {
    "name": "ipython",
    "version": 3
   },
   "file_extension": ".py",
   "mimetype": "text/x-python",
   "name": "python",
   "nbconvert_exporter": "python",
   "pygments_lexer": "ipython3",
   "version": "3.6.5"
  }
 },
 "nbformat": 4,
 "nbformat_minor": 2
}
