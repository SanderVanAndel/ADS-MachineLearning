{
 "cells": [
  {
   "cell_type": "markdown",
   "metadata": {},
   "source": [
    "# Importing dataset and libs"
   ]
  },
  {
   "cell_type": "code",
   "execution_count": null,
   "metadata": {},
   "outputs": [],
   "source": [
    "import pandas as pd\n",
    "import numpy as np\n",
    "import math\n",
    "from functools import reduce\n",
    "\n",
    "import matplotlib.pyplot as plt\n",
    "from matplotlib.pyplot import style\n",
    "style.use(\"ggplot\")\n",
    "\n",
    "from sklearn import preprocessing\n",
    "from sklearn.svm import SVC\n",
    "from sklearn.neighbors import KNeighborsClassifier\n",
    "from sklearn.metrics import accuracy_score\n",
    "from sklearn.model_selection import train_test_split\n",
    "from sklearn.model_selection import KFold\n",
    "from sklearn.linear_model import LinearRegression\n",
    "\n",
    "replays = pd.read_csv('../data/starcraft.csv')"
   ]
  },
  {
   "cell_type": "code",
   "execution_count": null,
   "metadata": {},
   "outputs": [],
   "source": [
    "replays.head()"
   ]
  },
  {
   "cell_type": "markdown",
   "metadata": {},
   "source": [
    "# Cleaning"
   ]
  },
  {
   "cell_type": "code",
   "execution_count": null,
   "metadata": {},
   "outputs": [],
   "source": [
    "# deleting one row with 1 million hours of playtime\n",
    "replays = replays[replays['TotalHours'] != 1000000]\n",
    "\n",
    "replays.dropna(inplace=True)\n",
    "replays.isnull().values.any()\n",
    "\n",
    "replays.describe()"
   ]
  },
  {
   "cell_type": "markdown",
   "metadata": {},
   "source": [
    "## LeagueIndex spread"
   ]
  },
  {
   "cell_type": "code",
   "execution_count": null,
   "metadata": {},
   "outputs": [],
   "source": [
    "plt.figure(figsize=(16, 8));\n",
    "\n",
    "leagueCounts = replays['LeagueIndex'].value_counts().sort_index()\n",
    "\n",
    "labels = leagueCounts.index.values.tolist()\n",
    "y_pos = np.arange(len(labels))\n",
    "\n",
    "# print(leagueCounts)\n",
    "# print(replays.groupby('LeagueIndex').count())\n",
    "\n",
    "plt.bar(y_pos, leagueCounts, align='center', alpha=1)\n",
    "plt.xticks(y_pos, labels)\n",
    "\n",
    "plt.title('Leagueindex spread')\n",
    "plt.ylabel('Amount of replays')\n"
   ]
  },
  {
   "cell_type": "markdown",
   "metadata": {},
   "source": [
    "## Combining LeagueIndexes"
   ]
  },
  {
   "cell_type": "code",
   "execution_count": null,
   "metadata": {},
   "outputs": [],
   "source": [
    "replays.loc[replays['LeagueIndex'] == 1, 'LeagueIndex'] = 2\n",
    "replays.loc[replays['LeagueIndex'] == 7, 'LeagueIndex'] = 6\n",
    "\n",
    "leagueCounts = replays['LeagueIndex'].value_counts().sort_index()\n",
    "labels = leagueCounts.index.values.tolist()\n",
    "y_pos = np.arange(len(labels))\n",
    "\n",
    "plt.figure(figsize=(16, 8));\n",
    "plt.bar(y_pos, leagueCounts, align='center', alpha=1)\n",
    "plt.xticks(y_pos, labels)\n",
    "plt.title('Leagueindex spread combined leagues')\n",
    "plt.ylabel('Amount of replays')"
   ]
  },
  {
   "cell_type": "markdown",
   "metadata": {},
   "source": [
    "# Plotting LeagueIndex against other features"
   ]
  },
  {
   "cell_type": "code",
   "execution_count": null,
   "metadata": {},
   "outputs": [],
   "source": [
    "plt.figure(figsize=(20, 20));\n",
    "\n",
    "plt.subplot(5, 4, 1)\n",
    "plt.title('Age')\n",
    "plt.xticks([2, 3, 4, 5, 6])\n",
    "plt.scatter(replays.LeagueIndex, replays.Age)\n",
    "\n",
    "plt.subplot(5, 4, 2)\n",
    "plt.title('HoursPerWeek')\n",
    "plt.xticks([2, 3, 4, 5, 6])\n",
    "plt.scatter(replays.LeagueIndex, replays.HoursPerWeek)\n",
    "\n",
    "plt.subplot(5, 4, 3)\n",
    "plt.title('TotalHours')\n",
    "plt.scatter(replays.LeagueIndex, replays.TotalHours)\n",
    "\n",
    "plt.subplot(5, 4, 4)\n",
    "plt.title('APM')\n",
    "plt.xticks([2, 3, 4, 5, 6])\n",
    "plt.scatter(replays.LeagueIndex, replays.APM)\n",
    "\n",
    "plt.subplot(5, 4, 5)\n",
    "plt.title('SelectByHotkeys')\n",
    "plt.xticks([2, 3, 4, 5, 6])\n",
    "plt.scatter(replays.LeagueIndex, replays.SelectByHotkeys)\n",
    "\n",
    "plt.subplot(5, 4, 6)\n",
    "plt.title('AssignToHotkeys')\n",
    "plt.ylim([0.0,0.002])\n",
    "plt.xticks([2, 3, 4, 5, 6])\n",
    "plt.scatter(replays.LeagueIndex, replays.AssignToHotkeys)\n",
    "\n",
    "plt.subplot(5, 4, 7)\n",
    "plt.title('UniqueHotkeys')\n",
    "plt.ylim([0.0,0.0004])\n",
    "plt.xticks([2, 3, 4, 5, 6])\n",
    "plt.scatter(replays.LeagueIndex, replays.UniqueHotkeys)\n",
    "\n",
    "plt.subplot(5, 4, 8)\n",
    "plt.title('MinimapAttacks')\n",
    "plt.ylim([0.0,0.005])\n",
    "plt.xticks([2, 3, 4, 5, 6])\n",
    "plt.scatter(replays.LeagueIndex, replays.MinimapAttacks)\n",
    "\n",
    "plt.subplot(5, 4, 9)\n",
    "plt.title('MinimapRightClicks')\n",
    "plt.ylim([0.0,0.005])\n",
    "plt.xticks([2, 3, 4, 5, 6])\n",
    "plt.scatter(replays.LeagueIndex, replays.MinimapRightClicks)\n",
    "\n",
    "plt.subplot(5, 4, 10)\n",
    "plt.title('NumberOfPACs')\n",
    "plt.ylim([0.0,0.010])\n",
    "plt.xticks([2, 3, 4, 5, 6])\n",
    "plt.scatter(replays.LeagueIndex, replays.NumberOfPACs)\n",
    "\n",
    "plt.subplot(5, 4, 11)\n",
    "plt.title('GapBetweenPACs')\n",
    "plt.xticks([2, 3, 4, 5, 6])\n",
    "plt.scatter(replays.LeagueIndex, replays.GapBetweenPACs)\n",
    "\n",
    "plt.subplot(5, 4, 12)\n",
    "plt.title('ActionLatency')\n",
    "plt.xticks([2, 3, 4, 5, 6])\n",
    "plt.scatter(replays.LeagueIndex, replays.ActionLatency)\n",
    "\n",
    "plt.subplot(5, 4, 13)\n",
    "plt.title('ActionsInPAC')\n",
    "plt.xticks([2, 3, 4, 5, 6])\n",
    "plt.scatter(replays.LeagueIndex, replays.ActionsInPAC)\n",
    "\n",
    "plt.subplot(5, 4, 14)\n",
    "plt.title('TotalMapExplored')\n",
    "plt.ylim([0.0,0.001])\n",
    "plt.xticks([2, 3, 4, 5, 6])\n",
    "plt.scatter(replays.LeagueIndex, replays.TotalMapExplored)\n",
    "\n",
    "plt.subplot(5, 4, 15)\n",
    "plt.title('WorkersMade')\n",
    "plt.ylim([0.0,0.006])\n",
    "plt.xticks([2, 3, 4, 5, 6])\n",
    "plt.scatter(replays.LeagueIndex, replays.WorkersMade)\n",
    "\n",
    "plt.subplot(5, 4, 16)\n",
    "plt.title('UniqueUnitsMade')\n",
    "plt.ylim([0.0,0.00025])\n",
    "plt.xticks([2, 3, 4, 5, 6])\n",
    "plt.scatter(replays.LeagueIndex, replays.UniqueUnitsMade)\n",
    "\n",
    "plt.subplot(5, 4, 17)\n",
    "plt.title('ComplexUnitsMade')\n",
    "plt.ylim([0.0,0.001])\n",
    "plt.xticks([2, 3, 4, 5, 6])\n",
    "plt.scatter(replays.LeagueIndex, replays.ComplexUnitsMade)\n",
    "\n",
    "plt.subplot(5, 4, 18)\n",
    "plt.title('ComplexAbilityUsed')\n",
    "plt.ylim([0.0,0.004])\n",
    "plt.xticks([2, 3, 4, 5, 6])\n",
    "plt.scatter(replays.LeagueIndex, replays.ComplexAbilityUsed)\n",
    "\n",
    "plt.subplot(5, 4, 19)\n",
    "plt.title('MaxTimeStamp')\n",
    "plt.xticks([2, 3, 4, 5, 6])\n",
    "plt.scatter(replays.LeagueIndex, replays.MaxTimeStamp)\n",
    "\n",
    "plt.tight_layout()"
   ]
  },
  {
   "cell_type": "markdown",
   "metadata": {},
   "source": [
    "# Predicting league index"
   ]
  },
  {
   "cell_type": "markdown",
   "metadata": {},
   "source": [
    "## Splitting into train and test"
   ]
  },
  {
   "cell_type": "code",
   "execution_count": null,
   "metadata": {},
   "outputs": [],
   "source": [
    "test_size = 0.2\n",
    "X_train, X_test, y_train, y_test = train_test_split(replays.iloc[:, 2:].values, replays.iloc[:, 1].values, test_size=test_size)"
   ]
  },
  {
   "cell_type": "markdown",
   "metadata": {},
   "source": [
    "### Normalize/standardize"
   ]
  },
  {
   "cell_type": "code",
   "execution_count": null,
   "metadata": {},
   "outputs": [],
   "source": [
    "scaler = preprocessing.StandardScaler().fit(X_train)\n",
    "X_train = scaler.transform(X_train)\n",
    "X_test = scaler.transform(X_test)"
   ]
  },
  {
   "cell_type": "markdown",
   "metadata": {},
   "source": [
    "## Feature selection"
   ]
  },
  {
   "cell_type": "code",
   "execution_count": null,
   "metadata": {},
   "outputs": [],
   "source": [
    "reg = LinearRegression()\n",
    "reg.fit(X_train, y_train)\n",
    "\n",
    "pred = reg.predict(X_test)\n",
    "r_square = reg.score(X_test, y_test)\n",
    "print(r_square)"
   ]
  },
  {
   "cell_type": "markdown",
   "metadata": {},
   "source": [
    "## Linear Support Vector Machines"
   ]
  },
  {
   "cell_type": "code",
   "execution_count": null,
   "metadata": {},
   "outputs": [],
   "source": [
    "clf = SVC(random_state=0, tol=1e-5, kernel='linear')\n",
    "clf.fit(X_train, y_train)\n",
    "pred = clf.predict(X_test)\n",
    "acc = accuracy_score(pred, y_test)\n",
    "print(acc)"
   ]
  },
  {
   "cell_type": "markdown",
   "metadata": {},
   "source": [
    "## KFold Cross Validation"
   ]
  },
  {
   "cell_type": "code",
   "execution_count": null,
   "metadata": {},
   "outputs": [],
   "source": [
    "X = np.array(list(zip(replays.Age.values, replays.HoursPerWeek.values, replays.Age.values, replays.TotalHours.values, replays.SelectByHotkeys.values, replays.AssignToHotkeys.values, \n",
    "                      replays.UniqueHotkeys.values, replays.MinimapAttacks.values, replays.MinimapRightClicks.values, replays.NumberOfPACs.values, replays.GapBetweenPACs.values, \n",
    "                      replays.ActionLatency.values, replays.ActionsInPAC.values, replays.TotalMapExplored.values, replays.WorkersMade.values, replays.UniqueUnitsMade.values,\n",
    "                      replays.ComplexUnitsMade.values, replays.ComplexAbilityUsed.values, replays.MaxTimeStamp.values, replays.APM.values)))\n",
    "y = np.array(list(replays.LeagueIndex.values))\n",
    "\n",
    "kf = KFold(n_splits=2, shuffle=True)\n",
    "\n",
    "kf.get_n_splits(X)\n",
    "\n",
    "accuracy_scores = []\n",
    "for train_index, test_index in kf.split(X):\n",
    "    print(\"TRAIN:\", train_index, \"TEST:\", test_index)\n",
    "    \n",
    "    #Create train and test set\n",
    "    X_train, X_test = X[train_index], X[test_index]\n",
    "    y_train, y_test = y[train_index], y[test_index]\n",
    "    \n",
    "    #Standardize data\n",
    "    scaler = preprocessing.StandardScaler().fit(X_train)\n",
    "    f_train = scaler.transform(X_train)\n",
    "    f_test = scaler.transform(X_test)\n",
    "    \n",
    "    #Create model\n",
    "    clf = SVC(random_state=0, tol=1e-5, kernel='linear')\n",
    "    clf.fit(f_train, y_train)\n",
    "    pred = clf.predict(f_test)\n",
    "    \n",
    "    #Check accuracy\n",
    "    acc = accuracy_score(pred, y_test)\n",
    "    accuracy_scores.append(acc)\n",
    "    \n",
    "print(accuracy_scores) \n",
    "print(reduce(lambda x, y: x + y, accuracy_scores) / len(accuracy_scores))"
   ]
  },
  {
   "cell_type": "markdown",
   "metadata": {},
   "source": [
    "## KNeighborsClassifier"
   ]
  },
  {
   "cell_type": "code",
   "execution_count": null,
   "metadata": {},
   "outputs": [],
   "source": [
    "results = []\n",
    "labels = []\n",
    "for i in range(20, 50):\n",
    "    knn = KNeighborsClassifier(n_neighbors=i)\n",
    "    knn.fit(f_train, labels_train)\n",
    "    results.append(knn.score(f_test, labels_test))\n",
    "    labels.append(i)\n",
    "y_pos = np.arange(len(labels))\n",
    "plt.figure(figsize=(16, 8));\n",
    "plt.bar(y_pos, results, align='center', alpha=1)\n",
    "plt.xticks(y_pos, labels)    "
   ]
  },
  {
   "cell_type": "code",
   "execution_count": null,
   "metadata": {},
   "outputs": [],
   "source": []
  }
 ],
 "metadata": {
  "kernelspec": {
   "display_name": "Python 3",
   "language": "python",
   "name": "python3"
  },
  "language_info": {
   "codemirror_mode": {
    "name": "ipython",
    "version": 3
   },
   "file_extension": ".py",
   "mimetype": "text/x-python",
   "name": "python",
   "nbconvert_exporter": "python",
   "pygments_lexer": "ipython3",
   "version": "3.6.5"
  }
 },
 "nbformat": 4,
 "nbformat_minor": 2
}
